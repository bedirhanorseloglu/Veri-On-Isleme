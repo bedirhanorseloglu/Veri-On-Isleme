{
 "cells": [
  {
   "cell_type": "markdown",
   "metadata": {},
   "source": [
    "# Veri mi Model mi?\n",
    "\n",
    "Modelin amacı genellenebilir yapılar ortaya koymak ve belirli olaylar gözlemlendiğinde belirli tahmin sonuçları vermektir.\n",
    "Dolayısıyla veri olmadan modelin bir anlamı yoktur.\n",
    "\"Eğer veriniz kötü ise makine öğrenmesi araçlarınız (modelleriniz) kullanışsız olacaktır.\""
   ]
  },
  {
   "cell_type": "markdown",
   "metadata": {},
   "source": [
    "\n",
    " # GENEL KONU BAŞLIKLARI\n",
    "    \n",
    "        Veri Temizleme (data cleaning / cleasing):\n",
    "- Gürültülü Veri\n",
    "- Eksik Veri Analizi\n",
    "- Aykırı Gözlem Analizi\n",
    "\n",
    "        Değişken Dönüşümleri:\n",
    "- Sürekli değişkenlerde dönüşümler\n",
    "- Kategorik değişkenlerde dönüşümler\n",
    "\n",
    "        Veri Standardizasyonu:\n",
    "- 0-1 Dönüşümü\n",
    "- z-skoruna Dönüştürme\n",
    "- Logaritmik Dönüşüm\n",
    "\n",
    "        Veri İndirgeme:\n",
    "- Gözlem Sayısının Azaltılması\n",
    "- Değişken Sayısının Azaltılması\n",
    "\n"
   ]
  }
 ],
 "metadata": {
  "language_info": {
   "name": "python"
  },
  "orig_nbformat": 4
 },
 "nbformat": 4,
 "nbformat_minor": 2
}
